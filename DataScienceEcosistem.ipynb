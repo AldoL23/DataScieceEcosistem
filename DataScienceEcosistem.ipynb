{
 "cells": [
  {
   "cell_type": "markdown",
   "id": "014d65bb-eab4-425d-a278-1d549ed09b12",
   "metadata": {},
   "source": [
    "#DATA SCINCE ECOSISTEM"
   ]
  },
  {
   "cell_type": "markdown",
   "id": "20b056a2-8ac9-4ee8-81f9-47dfb0d015c3",
   "metadata": {},
   "source": [
    "##In this notebook, Data Science Tools and Ecosystem are summarized:\n",
    "1. Python. \n",
    "2. R. \n",
    "3. SQL. "
   ]
  },
  {
   "cell_type": "markdown",
   "id": "a4733a05-1958-4287-bae7-6dfc098a2042",
   "metadata": {},
   "source": [
    "|Data Science Tools|\n",
    "|------------------|\n",
    "|Jupyter Notebooks|\n",
    "|JupiterLab|\n",
    "|VS Code|\n",
    " "
   ]
  },
  {
   "cell_type": "markdown",
   "id": "07946e95-1eed-445b-b164-612b3660d44a",
   "metadata": {},
   "source": [
    "#Objetives of this Notebook:\n",
    "**Create one Jupyter Notebook.** \n",
    "** Insert code and markdowns cells.** \n",
    "**Share you notbooks through GitHub.**\n",
    "**Languges more use for Data Science.**\n",
    "**Aritmetical problems.**"
   ]
  },
  {
   "cell_type": "code",
   "execution_count": 5,
   "id": "8f0a0bdd-521e-4e94-b8f5-4a887c75c1fa",
   "metadata": {},
   "outputs": [
    {
     "data": {
      "text/plain": [
       "17"
      ]
     },
     "execution_count": 5,
     "metadata": {},
     "output_type": "execute_result"
    }
   ],
   "source": [
    "### Below are a few examples of evaluating arithmetic expressions in Python\n",
    "(3*4)+5"
   ]
  },
  {
   "cell_type": "code",
   "execution_count": 7,
   "id": "033ee145-8ea9-465a-ab45-0fc48c018ecc",
   "metadata": {},
   "outputs": [
    {
     "name": "stdout",
     "output_type": "stream",
     "text": [
      "3.3333333333333335\n"
     ]
    }
   ],
   "source": [
    "a=200\n",
    "b=60\n",
    "c=(200/60)\n",
    "print(c)\n",
    "#this will cover 200 minuts to hours by dividing by 60. "
   ]
  },
  {
   "cell_type": "markdown",
   "id": "c28abd85-4f6c-4d70-b7fc-e1d7d36c9036",
   "metadata": {},
   "source": [
    "## Author \n",
    "## Aldo Lara "
   ]
  }
 ],
 "metadata": {
  "kernelspec": {
   "display_name": "Python [conda env:base] *",
   "language": "python",
   "name": "conda-base-py"
  },
  "language_info": {
   "codemirror_mode": {
    "name": "ipython",
    "version": 3
   },
   "file_extension": ".py",
   "mimetype": "text/x-python",
   "name": "python",
   "nbconvert_exporter": "python",
   "pygments_lexer": "ipython3",
   "version": "3.12.7"
  }
 },
 "nbformat": 4,
 "nbformat_minor": 5
}
